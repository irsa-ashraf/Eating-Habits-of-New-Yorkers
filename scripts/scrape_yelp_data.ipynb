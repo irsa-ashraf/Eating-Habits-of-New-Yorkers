{
 "cells": [
  {
   "cell_type": "markdown",
   "metadata": {},
   "source": [
    "Using the Fusion API provided by Yelp, scrape data from restaurants in New York City"
   ]
  },
  {
   "cell_type": "code",
   "execution_count": 22,
   "metadata": {},
   "outputs": [],
   "source": [
    "import pandas as pd \n",
    "import numpy as np\n",
    "import requests\n",
    "from yelpapi import YelpAPI\n",
    "import time \n",
    "from urllib.parse import quote\n"
   ]
  },
  {
   "cell_type": "code",
   "execution_count": 23,
   "metadata": {},
   "outputs": [],
   "source": [
    "client_id = '-nR8bKzJL-ilvjiSSbgTgw'\n",
    "api_key =  'fP7j0wJuOHXq3FG6Y7flI1OD9r4yWnbIGbx6yce2Z42C64K6WhupmUR9O3SvZNW6nmQVzjfeASxV_liT6MLttZlFdIFtch32PCCnVs0d8Sd0X3sSPTCkNZyma7tdY3Yx'"
   ]
  },
  {
   "cell_type": "code",
   "execution_count": 28,
   "metadata": {},
   "outputs": [],
   "source": [
    "API_HOST = 'https://api.yelp.com'\n",
    "SEARCH_PATH = '/v3/businesses/search'\n",
    "\n",
    "def request(host, path, api_key, url_params=None):\n",
    "    \"\"\"Given your API_KEY, send a GET request to the API.\n",
    "    Args:\n",
    "        host (str): The domain host of the API.\n",
    "        path (str): The path of the API after the domain.\n",
    "        API_KEY (str): Your API Key.\n",
    "        url_params (dict): An optional set of query parameters in the request.\n",
    "    Returns:\n",
    "        dict: The JSON response from the request.\n",
    "    Raises:\n",
    "        HTTPError: An error occurs from the HTTP request.\n",
    "    \"\"\"\n",
    "    url_params = url_params or {}\n",
    "    url = '{0}{1}'.format(host, quote(path.encode('utf8')))\n",
    "    headers = {\n",
    "        'Authorization': 'Bearer %s' % api_key,\n",
    "    }\n",
    "\n",
    "    print(u'Querying {0} ...'.format(url))\n",
    "\n",
    "    response = requests.request('GET', url, headers=headers, params=url_params)\n",
    "\n",
    "    return response.json()\n",
    "\n",
    "\n",
    "def search(api_key, term, location, limit, offset):\n",
    "    \"\"\"Query the Search API by a search term and location.\n",
    "    Args:\n",
    "        term (str): The search term passed to the API.\n",
    "        location (str): The search location passed to the API.\n",
    "    Returns:\n",
    "        dict: The JSON response from the request.\n",
    "    \"\"\"\n",
    "\n",
    "\n",
    "    url_params = {'term': term, 'location': location, 'limit': limit, 'offset': offset}\n",
    "\n",
    "    return request(API_HOST, SEARCH_PATH, api_key, url_params=url_params)"
   ]
  },
  {
   "cell_type": "code",
   "execution_count": 29,
   "metadata": {},
   "outputs": [
    {
     "name": "stdout",
     "output_type": "stream",
     "text": [
      "Querying https://api.yelp.com/v3/businesses/search ...\n",
      "Querying https://api.yelp.com/v3/businesses/search ...\n",
      "Querying https://api.yelp.com/v3/businesses/search ...\n",
      "Querying https://api.yelp.com/v3/businesses/search ...\n",
      "Querying https://api.yelp.com/v3/businesses/search ...\n",
      "Querying https://api.yelp.com/v3/businesses/search ...\n",
      "Querying https://api.yelp.com/v3/businesses/search ...\n",
      "Querying https://api.yelp.com/v3/businesses/search ...\n",
      "Querying https://api.yelp.com/v3/businesses/search ...\n",
      "Querying https://api.yelp.com/v3/businesses/search ...\n",
      "Querying https://api.yelp.com/v3/businesses/search ...\n",
      "Querying https://api.yelp.com/v3/businesses/search ...\n",
      "Querying https://api.yelp.com/v3/businesses/search ...\n",
      "Querying https://api.yelp.com/v3/businesses/search ...\n",
      "Querying https://api.yelp.com/v3/businesses/search ...\n",
      "Querying https://api.yelp.com/v3/businesses/search ...\n",
      "Querying https://api.yelp.com/v3/businesses/search ...\n",
      "Querying https://api.yelp.com/v3/businesses/search ...\n",
      "Querying https://api.yelp.com/v3/businesses/search ...\n"
     ]
    }
   ],
   "source": [
    "term = 'restaurant'\n",
    "location = 'New York City'\n",
    "limit = 50\n",
    "\n",
    "\n",
    "dfs_lst = []\n",
    "\n",
    "offset = 0\n",
    "for i in range(19):\n",
    "    response = search(api_key, term, location, limit, offset)\n",
    "    start = time.time()\n",
    "    # Name, category, coordinates, price, zipcode\n",
    "    businesses = response['businesses']\n",
    "\n",
    "    rest_names_lst = []\n",
    "    category_lst = []\n",
    "    lat_lst = []\n",
    "    lon_lst = []\n",
    "    price_lst = []\n",
    "    zipcode_lst = []\n",
    "    ratings_lst = []\n",
    "\n",
    "    notadded_lst = []\n",
    "\n",
    "    keys_lst = ['name', 'categories', 'coordinates', 'price', 'location']\n",
    "\n",
    "    for idx, bus_dict in enumerate(businesses):\n",
    "        bus_keys_lst = list(bus_dict.keys())\n",
    "        if 'name' in bus_keys_lst and 'categories' in bus_keys_lst and 'coordinates' in bus_keys_lst and 'price' in bus_keys_lst and 'location' in bus_keys_lst and 'rating' in bus_keys_lst:        \n",
    "            rest_names_lst.append(bus_dict['name'])\n",
    "            cats_dict = bus_dict['categories'][0]\n",
    "            category_lst.append(cats_dict['title'])\n",
    "            coordinates_dict = bus_dict['coordinates']\n",
    "            lat_lst.append(coordinates_dict['latitude'])\n",
    "            lon_lst.append(coordinates_dict['longitude'])\n",
    "            price_lst.append(bus_dict['price'])\n",
    "            location_dict = bus_dict['location']\n",
    "            zipcode_lst.append(location_dict['zip_code'])\n",
    "            ratings_lst.append(bus_dict['rating'])\n",
    "        elif 'name' in bus_keys_lst and 'categories' in bus_keys_lst and 'coordinates' in bus_keys_lst and 'rating' in bus_keys_lst:\n",
    "            rest_names_lst.append(bus_dict['name'])\n",
    "            cats_dict = bus_dict['categories'][0]\n",
    "            category_lst.append(cats_dict['title'])\n",
    "            coordinates_dict = bus_dict['coordinates']\n",
    "            lat_lst.append(coordinates_dict['latitude'])\n",
    "            lon_lst.append(coordinates_dict['longitude'])\n",
    "            ratings_lst.append(bus_dict['rating'])\n",
    "            price_lst.append(np.NaN)\n",
    "            zipcode_lst.append(np.NaN)\n",
    "\n",
    "        elif 'name' in bus_keys_lst and 'categories' in bus_keys_lst and 'coordinates' in bus_keys_lst and 'price' in bus_keys_lst:\n",
    "            rest_names_lst.append(bus_dict['name'])\n",
    "            cats_dict = bus_dict['categories'][0]\n",
    "            category_lst.append(cats_dict['title'])\n",
    "            coordinates_dict = bus_dict['coordinates']\n",
    "            lat_lst.append(coordinates_dict['latitude'])\n",
    "            lon_lst.append(coordinates_dict['longitude'])\n",
    "            price_lst.append(bus_dict['price'])\n",
    "            zipcode_lst.append(np.NaN)\n",
    "            ratings_lst.append(np.NaN)\n",
    "\n",
    "        elif 'name' in bus_keys_lst and 'categories' in bus_keys_lst and 'coordinates' in bus_keys_lst:\n",
    "            rest_names_lst.append(bus_dict['name'])\n",
    "            cats_dict = bus_dict['categories'][0]\n",
    "            category_lst.append(cats_dict['title'])\n",
    "            coordinates_dict = bus_dict['coordinates']\n",
    "            lat_lst.append(coordinates_dict['latitude'])\n",
    "            lon_lst.append(coordinates_dict['longitude'])\n",
    "            price_lst.append(np.NaN)\n",
    "            zipcode_lst.append(np.NaN)\n",
    "            ratings_lst.append(np.NaN)\n",
    "\n",
    "    rest_df = pd.DataFrame({'Name': rest_names_lst, 'Category': category_lst, 'Latitude': lat_lst, 'Longitude': lon_lst, 'Price': price_lst, 'Rating': ratings_lst, 'Zipcode': zipcode_lst})\n",
    "    dfs_lst.append(rest_df)\n",
    "    offset += 50\n",
    "    "
   ]
  },
  {
   "cell_type": "code",
   "execution_count": 30,
   "metadata": {},
   "outputs": [],
   "source": [
    "# Save to csv \n",
    "\n",
    "all_rests_df = pd.concat(dfs_lst)\n",
    "len(all_rests_df)\n",
    "len(all_rests_df['Name'].unique())\n",
    "\n",
    "all_rests_df.to_csv('/Users/irsaashraf/Desktop/UChicago/Fall_22/DataViz/DataViz_projectdata/yelp_rest_data.csv', index = False)"
   ]
  }
 ],
 "metadata": {
  "kernelspec": {
   "display_name": "Python 3.10.7 64-bit",
   "language": "python",
   "name": "python3"
  },
  "language_info": {
   "codemirror_mode": {
    "name": "ipython",
    "version": 3
   },
   "file_extension": ".py",
   "mimetype": "text/x-python",
   "name": "python",
   "nbconvert_exporter": "python",
   "pygments_lexer": "ipython3",
   "version": "3.10.7"
  },
  "orig_nbformat": 4,
  "vscode": {
   "interpreter": {
    "hash": "aee8b7b246df8f9039afb4144a1f6fd8d2ca17a180786b69acc140d282b71a49"
   }
  }
 },
 "nbformat": 4,
 "nbformat_minor": 2
}
